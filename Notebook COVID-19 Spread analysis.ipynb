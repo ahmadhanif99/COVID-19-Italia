{
 "cells": [
  {
   "cell_type": "code",
   "execution_count": 1,
   "metadata": {},
   "outputs": [],
   "source": [
    "import pandas as pd"
   ]
  },
  {
   "cell_type": "code",
   "execution_count": 2,
   "metadata": {},
   "outputs": [],
   "source": [
    "df=pd.read_csv(\"regional_data.csv\")"
   ]
  },
  {
   "cell_type": "code",
   "execution_count": 3,
   "metadata": {},
   "outputs": [
    {
     "data": {
      "text/html": [
       "<div>\n",
       "<style scoped>\n",
       "    .dataframe tbody tr th:only-of-type {\n",
       "        vertical-align: middle;\n",
       "    }\n",
       "\n",
       "    .dataframe tbody tr th {\n",
       "        vertical-align: top;\n",
       "    }\n",
       "\n",
       "    .dataframe thead th {\n",
       "        text-align: right;\n",
       "    }\n",
       "</style>\n",
       "<table border=\"1\" class=\"dataframe\">\n",
       "  <thead>\n",
       "    <tr style=\"text-align: right;\">\n",
       "      <th></th>\n",
       "      <th>Date</th>\n",
       "      <th>Region_Code</th>\n",
       "      <th>Region_Name</th>\n",
       "      <th>Region_Latitude</th>\n",
       "      <th>Region_Longitude</th>\n",
       "      <th>Hospitalized_with_Symptoms</th>\n",
       "      <th>Intensive_Care</th>\n",
       "      <th>Total_Hospitalized</th>\n",
       "      <th>Tot_Home_Isolation</th>\n",
       "      <th>Total_Actually_Positive</th>\n",
       "      <th>New_Actually_Positive</th>\n",
       "      <th>Healed</th>\n",
       "      <th>Deceased</th>\n",
       "      <th>Total_Cases</th>\n",
       "      <th>Total_Medical_Swabs</th>\n",
       "    </tr>\n",
       "  </thead>\n",
       "  <tbody>\n",
       "    <tr>\n",
       "      <th>0</th>\n",
       "      <td>2020-02-24 18:00:00</td>\n",
       "      <td>13</td>\n",
       "      <td>Abruzzo</td>\n",
       "      <td>42.351222</td>\n",
       "      <td>13.398438</td>\n",
       "      <td>0</td>\n",
       "      <td>0</td>\n",
       "      <td>0</td>\n",
       "      <td>0</td>\n",
       "      <td>0</td>\n",
       "      <td>0</td>\n",
       "      <td>0</td>\n",
       "      <td>0</td>\n",
       "      <td>0</td>\n",
       "      <td>5</td>\n",
       "    </tr>\n",
       "    <tr>\n",
       "      <th>1</th>\n",
       "      <td>2020-02-24 18:00:00</td>\n",
       "      <td>17</td>\n",
       "      <td>Basilicata</td>\n",
       "      <td>40.639471</td>\n",
       "      <td>15.805148</td>\n",
       "      <td>0</td>\n",
       "      <td>0</td>\n",
       "      <td>0</td>\n",
       "      <td>0</td>\n",
       "      <td>0</td>\n",
       "      <td>0</td>\n",
       "      <td>0</td>\n",
       "      <td>0</td>\n",
       "      <td>0</td>\n",
       "      <td>0</td>\n",
       "    </tr>\n",
       "    <tr>\n",
       "      <th>2</th>\n",
       "      <td>2020-02-24 18:00:00</td>\n",
       "      <td>4</td>\n",
       "      <td>Trentino-Alto Adige</td>\n",
       "      <td>46.499335</td>\n",
       "      <td>11.356624</td>\n",
       "      <td>0</td>\n",
       "      <td>0</td>\n",
       "      <td>0</td>\n",
       "      <td>0</td>\n",
       "      <td>0</td>\n",
       "      <td>0</td>\n",
       "      <td>0</td>\n",
       "      <td>0</td>\n",
       "      <td>0</td>\n",
       "      <td>1</td>\n",
       "    </tr>\n",
       "    <tr>\n",
       "      <th>3</th>\n",
       "      <td>2020-02-24 18:00:00</td>\n",
       "      <td>18</td>\n",
       "      <td>Calabria</td>\n",
       "      <td>38.905976</td>\n",
       "      <td>16.594402</td>\n",
       "      <td>0</td>\n",
       "      <td>0</td>\n",
       "      <td>0</td>\n",
       "      <td>0</td>\n",
       "      <td>0</td>\n",
       "      <td>0</td>\n",
       "      <td>0</td>\n",
       "      <td>0</td>\n",
       "      <td>0</td>\n",
       "      <td>1</td>\n",
       "    </tr>\n",
       "    <tr>\n",
       "      <th>4</th>\n",
       "      <td>2020-02-24 18:00:00</td>\n",
       "      <td>15</td>\n",
       "      <td>Campania</td>\n",
       "      <td>40.839566</td>\n",
       "      <td>14.250850</td>\n",
       "      <td>0</td>\n",
       "      <td>0</td>\n",
       "      <td>0</td>\n",
       "      <td>0</td>\n",
       "      <td>0</td>\n",
       "      <td>0</td>\n",
       "      <td>0</td>\n",
       "      <td>0</td>\n",
       "      <td>0</td>\n",
       "      <td>10</td>\n",
       "    </tr>\n",
       "  </tbody>\n",
       "</table>\n",
       "</div>"
      ],
      "text/plain": [
       "                  Date  Region_Code          Region_Name  Region_Latitude  \\\n",
       "0  2020-02-24 18:00:00           13              Abruzzo        42.351222   \n",
       "1  2020-02-24 18:00:00           17           Basilicata        40.639471   \n",
       "2  2020-02-24 18:00:00            4  Trentino-Alto Adige        46.499335   \n",
       "3  2020-02-24 18:00:00           18             Calabria        38.905976   \n",
       "4  2020-02-24 18:00:00           15             Campania        40.839566   \n",
       "\n",
       "   Region_Longitude  Hospitalized_with_Symptoms  Intensive_Care  \\\n",
       "0         13.398438                           0               0   \n",
       "1         15.805148                           0               0   \n",
       "2         11.356624                           0               0   \n",
       "3         16.594402                           0               0   \n",
       "4         14.250850                           0               0   \n",
       "\n",
       "   Total_Hospitalized  Tot_Home_Isolation  Total_Actually_Positive  \\\n",
       "0                   0                   0                        0   \n",
       "1                   0                   0                        0   \n",
       "2                   0                   0                        0   \n",
       "3                   0                   0                        0   \n",
       "4                   0                   0                        0   \n",
       "\n",
       "   New_Actually_Positive  Healed  Deceased  Total_Cases  Total_Medical_Swabs  \n",
       "0                      0       0         0            0                    5  \n",
       "1                      0       0         0            0                    0  \n",
       "2                      0       0         0            0                    1  \n",
       "3                      0       0         0            0                    1  \n",
       "4                      0       0         0            0                   10  "
      ]
     },
     "execution_count": 3,
     "metadata": {},
     "output_type": "execute_result"
    }
   ],
   "source": [
    "df.head()"
   ]
  },
  {
   "cell_type": "code",
   "execution_count": 4,
   "metadata": {},
   "outputs": [],
   "source": [
    "import cProfile"
   ]
  },
  {
   "cell_type": "code",
   "execution_count": 5,
   "metadata": {},
   "outputs": [],
   "source": [
    "def slow_function():\n",
    "    total = 0.0\n",
    "    \n",
    "    for i, _ in enumerate(range(10000)):\n",
    "        \n",
    "        for j, _ in enumerate(range(1, 10000)):\n",
    "            total += (i * j)\n",
    "\n",
    "    return total"
   ]
  },
  {
   "cell_type": "code",
   "execution_count": 6,
   "metadata": {},
   "outputs": [
    {
     "name": "stdout",
     "output_type": "stream",
     "text": [
      "         4 function calls in 8.956 seconds\n",
      "\n",
      "   Ordered by: internal time\n",
      "\n",
      "   ncalls  tottime  percall  cumtime  percall filename:lineno(function)\n",
      "        1    8.956    8.956    8.956    8.956 <ipython-input-5-0914bc0caa0e>:1(slow_function)\n",
      "        1    0.000    0.000    8.956    8.956 {built-in method builtins.exec}\n",
      "        1    0.000    0.000    8.956    8.956 <string>:1(<module>)\n",
      "        1    0.000    0.000    0.000    0.000 {method 'disable' of '_lsprof.Profiler' objects}\n",
      "\n",
      "\n"
     ]
    }
   ],
   "source": [
    "cProfile.run('slow_function()', sort='time')"
   ]
  },
  {
   "cell_type": "code",
   "execution_count": 7,
   "metadata": {},
   "outputs": [
    {
     "name": "stdout",
     "output_type": "stream",
     "text": [
      "8.85 s ± 82.9 ms per loop (mean ± std. dev. of 7 runs, 1 loop each)\n"
     ]
    }
   ],
   "source": [
    "%%timeit\n",
    "\n",
    "slow_function()"
   ]
  },
  {
   "cell_type": "code",
   "execution_count": null,
   "metadata": {},
   "outputs": [],
   "source": []
  }
 ],
 "metadata": {
  "kernelspec": {
   "display_name": "conda_python3",
   "language": "python",
   "name": "conda_python3"
  },
  "language_info": {
   "codemirror_mode": {
    "name": "ipython",
    "version": 3
   },
   "file_extension": ".py",
   "mimetype": "text/x-python",
   "name": "python",
   "nbconvert_exporter": "python",
   "pygments_lexer": "ipython3",
   "version": "3.6.10"
  }
 },
 "nbformat": 4,
 "nbformat_minor": 4
}

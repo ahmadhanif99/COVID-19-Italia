{
 "cells": [
  {
   "cell_type": "code",
   "execution_count": 222,
   "metadata": {},
   "outputs": [],
   "source": [
    "import pandas as pd"
   ]
  },
  {
   "cell_type": "code",
   "execution_count": 223,
   "metadata": {},
   "outputs": [],
   "source": [
    "df_reg=pd.read_csv(\"regional_data.csv\")\n",
    "df_prov=pd.read_csv(\"province_data.csv\")"
   ]
  },
  {
   "cell_type": "code",
   "execution_count": 224,
   "metadata": {},
   "outputs": [
    {
     "data": {
      "text/html": [
       "<div>\n",
       "<style scoped>\n",
       "    .dataframe tbody tr th:only-of-type {\n",
       "        vertical-align: middle;\n",
       "    }\n",
       "\n",
       "    .dataframe tbody tr th {\n",
       "        vertical-align: top;\n",
       "    }\n",
       "\n",
       "    .dataframe thead th {\n",
       "        text-align: right;\n",
       "    }\n",
       "</style>\n",
       "<table border=\"1\" class=\"dataframe\">\n",
       "  <thead>\n",
       "    <tr style=\"text-align: right;\">\n",
       "      <th></th>\n",
       "      <th>Date</th>\n",
       "      <th>Region_Code</th>\n",
       "      <th>Region_Name</th>\n",
       "      <th>Region_Latitude</th>\n",
       "      <th>Region_Longitude</th>\n",
       "      <th>Hospitalized_with_Symptoms</th>\n",
       "      <th>Intensive_Care</th>\n",
       "      <th>Total_Hospitalized</th>\n",
       "      <th>Tot_Home_Isolation</th>\n",
       "      <th>Total_Actually_Positive</th>\n",
       "      <th>New_Actually_Positive</th>\n",
       "      <th>Healed</th>\n",
       "      <th>Deceased</th>\n",
       "      <th>Total_Cases</th>\n",
       "      <th>Total_Medical_Swabs</th>\n",
       "    </tr>\n",
       "  </thead>\n",
       "  <tbody>\n",
       "    <tr>\n",
       "      <th>0</th>\n",
       "      <td>2020-02-24 18:00:00</td>\n",
       "      <td>13</td>\n",
       "      <td>Abruzzo</td>\n",
       "      <td>42.351222</td>\n",
       "      <td>13.398438</td>\n",
       "      <td>0</td>\n",
       "      <td>0</td>\n",
       "      <td>0</td>\n",
       "      <td>0</td>\n",
       "      <td>0</td>\n",
       "      <td>0</td>\n",
       "      <td>0</td>\n",
       "      <td>0</td>\n",
       "      <td>0</td>\n",
       "      <td>5</td>\n",
       "    </tr>\n",
       "    <tr>\n",
       "      <th>1</th>\n",
       "      <td>2020-02-24 18:00:00</td>\n",
       "      <td>17</td>\n",
       "      <td>Basilicata</td>\n",
       "      <td>40.639471</td>\n",
       "      <td>15.805148</td>\n",
       "      <td>0</td>\n",
       "      <td>0</td>\n",
       "      <td>0</td>\n",
       "      <td>0</td>\n",
       "      <td>0</td>\n",
       "      <td>0</td>\n",
       "      <td>0</td>\n",
       "      <td>0</td>\n",
       "      <td>0</td>\n",
       "      <td>0</td>\n",
       "    </tr>\n",
       "    <tr>\n",
       "      <th>2</th>\n",
       "      <td>2020-02-24 18:00:00</td>\n",
       "      <td>4</td>\n",
       "      <td>Trentino-Alto Adige</td>\n",
       "      <td>46.499335</td>\n",
       "      <td>11.356624</td>\n",
       "      <td>0</td>\n",
       "      <td>0</td>\n",
       "      <td>0</td>\n",
       "      <td>0</td>\n",
       "      <td>0</td>\n",
       "      <td>0</td>\n",
       "      <td>0</td>\n",
       "      <td>0</td>\n",
       "      <td>0</td>\n",
       "      <td>1</td>\n",
       "    </tr>\n",
       "    <tr>\n",
       "      <th>3</th>\n",
       "      <td>2020-02-24 18:00:00</td>\n",
       "      <td>18</td>\n",
       "      <td>Calabria</td>\n",
       "      <td>38.905976</td>\n",
       "      <td>16.594402</td>\n",
       "      <td>0</td>\n",
       "      <td>0</td>\n",
       "      <td>0</td>\n",
       "      <td>0</td>\n",
       "      <td>0</td>\n",
       "      <td>0</td>\n",
       "      <td>0</td>\n",
       "      <td>0</td>\n",
       "      <td>0</td>\n",
       "      <td>1</td>\n",
       "    </tr>\n",
       "    <tr>\n",
       "      <th>4</th>\n",
       "      <td>2020-02-24 18:00:00</td>\n",
       "      <td>15</td>\n",
       "      <td>Campania</td>\n",
       "      <td>40.839566</td>\n",
       "      <td>14.250850</td>\n",
       "      <td>0</td>\n",
       "      <td>0</td>\n",
       "      <td>0</td>\n",
       "      <td>0</td>\n",
       "      <td>0</td>\n",
       "      <td>0</td>\n",
       "      <td>0</td>\n",
       "      <td>0</td>\n",
       "      <td>0</td>\n",
       "      <td>10</td>\n",
       "    </tr>\n",
       "  </tbody>\n",
       "</table>\n",
       "</div>"
      ],
      "text/plain": [
       "                  Date  Region_Code          Region_Name  Region_Latitude  \\\n",
       "0  2020-02-24 18:00:00           13              Abruzzo        42.351222   \n",
       "1  2020-02-24 18:00:00           17           Basilicata        40.639471   \n",
       "2  2020-02-24 18:00:00            4  Trentino-Alto Adige        46.499335   \n",
       "3  2020-02-24 18:00:00           18             Calabria        38.905976   \n",
       "4  2020-02-24 18:00:00           15             Campania        40.839566   \n",
       "\n",
       "   Region_Longitude  Hospitalized_with_Symptoms  Intensive_Care  \\\n",
       "0         13.398438                           0               0   \n",
       "1         15.805148                           0               0   \n",
       "2         11.356624                           0               0   \n",
       "3         16.594402                           0               0   \n",
       "4         14.250850                           0               0   \n",
       "\n",
       "   Total_Hospitalized  Tot_Home_Isolation  Total_Actually_Positive  \\\n",
       "0                   0                   0                        0   \n",
       "1                   0                   0                        0   \n",
       "2                   0                   0                        0   \n",
       "3                   0                   0                        0   \n",
       "4                   0                   0                        0   \n",
       "\n",
       "   New_Actually_Positive  Healed  Deceased  Total_Cases  Total_Medical_Swabs  \n",
       "0                      0       0         0            0                    5  \n",
       "1                      0       0         0            0                    0  \n",
       "2                      0       0         0            0                    1  \n",
       "3                      0       0         0            0                    1  \n",
       "4                      0       0         0            0                   10  "
      ]
     },
     "execution_count": 224,
     "metadata": {},
     "output_type": "execute_result"
    }
   ],
   "source": [
    "df_reg.head()"
   ]
  },
  {
   "cell_type": "code",
   "execution_count": 225,
   "metadata": {},
   "outputs": [
    {
     "data": {
      "text/html": [
       "<div>\n",
       "<style scoped>\n",
       "    .dataframe tbody tr th:only-of-type {\n",
       "        vertical-align: middle;\n",
       "    }\n",
       "\n",
       "    .dataframe tbody tr th {\n",
       "        vertical-align: top;\n",
       "    }\n",
       "\n",
       "    .dataframe thead th {\n",
       "        text-align: right;\n",
       "    }\n",
       "</style>\n",
       "<table border=\"1\" class=\"dataframe\">\n",
       "  <thead>\n",
       "    <tr style=\"text-align: right;\">\n",
       "      <th></th>\n",
       "      <th>Date</th>\n",
       "      <th>Region_Code</th>\n",
       "      <th>Region_Name</th>\n",
       "      <th>Province_Code</th>\n",
       "      <th>Province_Name</th>\n",
       "      <th>Province_GeoCode</th>\n",
       "      <th>Province_Latitude</th>\n",
       "      <th>Prov_Longitude</th>\n",
       "      <th>Total_Cases</th>\n",
       "    </tr>\n",
       "  </thead>\n",
       "  <tbody>\n",
       "    <tr>\n",
       "      <th>0</th>\n",
       "      <td>2020-02-24 18:00:00</td>\n",
       "      <td>13</td>\n",
       "      <td>Abruzzo</td>\n",
       "      <td>69</td>\n",
       "      <td>Chieti</td>\n",
       "      <td>CH</td>\n",
       "      <td>42.351032</td>\n",
       "      <td>14.167546</td>\n",
       "      <td>0</td>\n",
       "    </tr>\n",
       "    <tr>\n",
       "      <th>1</th>\n",
       "      <td>2020-02-24 18:00:00</td>\n",
       "      <td>13</td>\n",
       "      <td>Abruzzo</td>\n",
       "      <td>66</td>\n",
       "      <td>L'Aquila</td>\n",
       "      <td>AQ</td>\n",
       "      <td>42.351222</td>\n",
       "      <td>13.398438</td>\n",
       "      <td>0</td>\n",
       "    </tr>\n",
       "    <tr>\n",
       "      <th>2</th>\n",
       "      <td>2020-02-24 18:00:00</td>\n",
       "      <td>13</td>\n",
       "      <td>Abruzzo</td>\n",
       "      <td>68</td>\n",
       "      <td>Pescara</td>\n",
       "      <td>PE</td>\n",
       "      <td>42.464584</td>\n",
       "      <td>14.213648</td>\n",
       "      <td>0</td>\n",
       "    </tr>\n",
       "    <tr>\n",
       "      <th>3</th>\n",
       "      <td>2020-02-24 18:00:00</td>\n",
       "      <td>13</td>\n",
       "      <td>Abruzzo</td>\n",
       "      <td>67</td>\n",
       "      <td>Teramo</td>\n",
       "      <td>TE</td>\n",
       "      <td>42.658918</td>\n",
       "      <td>13.704400</td>\n",
       "      <td>0</td>\n",
       "    </tr>\n",
       "    <tr>\n",
       "      <th>4</th>\n",
       "      <td>2020-02-24 18:00:00</td>\n",
       "      <td>17</td>\n",
       "      <td>Basilicata</td>\n",
       "      <td>77</td>\n",
       "      <td>Matera</td>\n",
       "      <td>MT</td>\n",
       "      <td>40.667512</td>\n",
       "      <td>16.597924</td>\n",
       "      <td>0</td>\n",
       "    </tr>\n",
       "  </tbody>\n",
       "</table>\n",
       "</div>"
      ],
      "text/plain": [
       "                  Date  Region_Code Region_Name  Province_Code Province_Name  \\\n",
       "0  2020-02-24 18:00:00           13     Abruzzo             69        Chieti   \n",
       "1  2020-02-24 18:00:00           13     Abruzzo             66      L'Aquila   \n",
       "2  2020-02-24 18:00:00           13     Abruzzo             68       Pescara   \n",
       "3  2020-02-24 18:00:00           13     Abruzzo             67        Teramo   \n",
       "4  2020-02-24 18:00:00           17  Basilicata             77        Matera   \n",
       "\n",
       "  Province_GeoCode  Province_Latitude  Prov_Longitude  Total_Cases  \n",
       "0               CH          42.351032       14.167546            0  \n",
       "1               AQ          42.351222       13.398438            0  \n",
       "2               PE          42.464584       14.213648            0  \n",
       "3               TE          42.658918       13.704400            0  \n",
       "4               MT          40.667512       16.597924            0  "
      ]
     },
     "execution_count": 225,
     "metadata": {},
     "output_type": "execute_result"
    }
   ],
   "source": [
    "df_prov.head()"
   ]
  },
  {
   "cell_type": "code",
   "execution_count": 226,
   "metadata": {},
   "outputs": [
    {
     "name": "stdout",
     "output_type": "stream",
     "text": [
      "<class 'pandas.core.frame.DataFrame'>\n",
      "RangeIndex: 1260 entries, 0 to 1259\n",
      "Data columns (total 15 columns):\n",
      "Date                          1260 non-null object\n",
      "Region_Code                   1260 non-null int64\n",
      "Region_Name                   1260 non-null object\n",
      "Region_Latitude               1260 non-null float64\n",
      "Region_Longitude              1260 non-null float64\n",
      "Hospitalized_with_Symptoms    1260 non-null int64\n",
      "Intensive_Care                1260 non-null int64\n",
      "Total_Hospitalized            1260 non-null int64\n",
      "Tot_Home_Isolation            1260 non-null int64\n",
      "Total_Actually_Positive       1260 non-null int64\n",
      "New_Actually_Positive         1260 non-null int64\n",
      "Healed                        1260 non-null int64\n",
      "Deceased                      1260 non-null int64\n",
      "Total_Cases                   1260 non-null int64\n",
      "Total_Medical_Swabs           1260 non-null int64\n",
      "dtypes: float64(2), int64(11), object(2)\n",
      "memory usage: 147.7+ KB\n"
     ]
    }
   ],
   "source": [
    "df_reg.info()"
   ]
  },
  {
   "cell_type": "code",
   "execution_count": 227,
   "metadata": {},
   "outputs": [
    {
     "name": "stdout",
     "output_type": "stream",
     "text": [
      "<class 'pandas.core.frame.DataFrame'>\n",
      "RangeIndex: 6420 entries, 0 to 6419\n",
      "Data columns (total 9 columns):\n",
      "Date                 6420 non-null object\n",
      "Region_Code          6420 non-null int64\n",
      "Region_Name          6420 non-null object\n",
      "Province_Code        6420 non-null int64\n",
      "Province_Name        6420 non-null object\n",
      "Province_GeoCode     6360 non-null object\n",
      "Province_Latitude    6420 non-null float64\n",
      "Prov_Longitude       6420 non-null float64\n",
      "Total_Cases          6420 non-null int64\n",
      "dtypes: float64(2), int64(3), object(4)\n",
      "memory usage: 451.5+ KB\n"
     ]
    }
   ],
   "source": [
    "df_prov.info()"
   ]
  },
  {
   "cell_type": "markdown",
   "metadata": {},
   "source": [
    "handling nulls"
   ]
  },
  {
   "cell_type": "code",
   "execution_count": 228,
   "metadata": {},
   "outputs": [
    {
     "data": {
      "text/html": [
       "<div>\n",
       "<style scoped>\n",
       "    .dataframe tbody tr th:only-of-type {\n",
       "        vertical-align: middle;\n",
       "    }\n",
       "\n",
       "    .dataframe tbody tr th {\n",
       "        vertical-align: top;\n",
       "    }\n",
       "\n",
       "    .dataframe thead th {\n",
       "        text-align: right;\n",
       "    }\n",
       "</style>\n",
       "<table border=\"1\" class=\"dataframe\">\n",
       "  <thead>\n",
       "    <tr style=\"text-align: right;\">\n",
       "      <th></th>\n",
       "      <th>Date</th>\n",
       "      <th>Region_Code</th>\n",
       "      <th>Region_Name</th>\n",
       "      <th>Province_Code</th>\n",
       "      <th>Province_Name</th>\n",
       "      <th>Province_GeoCode</th>\n",
       "      <th>Province_Latitude</th>\n",
       "      <th>Prov_Longitude</th>\n",
       "      <th>Total_Cases</th>\n",
       "    </tr>\n",
       "  </thead>\n",
       "  <tbody>\n",
       "    <tr>\n",
       "      <th>15</th>\n",
       "      <td>2020-02-24 18:00:00</td>\n",
       "      <td>15</td>\n",
       "      <td>Campania</td>\n",
       "      <td>63</td>\n",
       "      <td>Napoli</td>\n",
       "      <td>NaN</td>\n",
       "      <td>40.839566</td>\n",
       "      <td>14.25085</td>\n",
       "      <td>0</td>\n",
       "    </tr>\n",
       "    <tr>\n",
       "      <th>122</th>\n",
       "      <td>2020-02-25 18:00:00</td>\n",
       "      <td>15</td>\n",
       "      <td>Campania</td>\n",
       "      <td>63</td>\n",
       "      <td>Napoli</td>\n",
       "      <td>NaN</td>\n",
       "      <td>40.839566</td>\n",
       "      <td>14.25085</td>\n",
       "      <td>0</td>\n",
       "    </tr>\n",
       "    <tr>\n",
       "      <th>229</th>\n",
       "      <td>2020-02-26 18:00:00</td>\n",
       "      <td>15</td>\n",
       "      <td>Campania</td>\n",
       "      <td>63</td>\n",
       "      <td>Napoli</td>\n",
       "      <td>NaN</td>\n",
       "      <td>40.839566</td>\n",
       "      <td>14.25085</td>\n",
       "      <td>0</td>\n",
       "    </tr>\n",
       "    <tr>\n",
       "      <th>336</th>\n",
       "      <td>2020-02-27 18:00:00</td>\n",
       "      <td>15</td>\n",
       "      <td>Campania</td>\n",
       "      <td>63</td>\n",
       "      <td>Napoli</td>\n",
       "      <td>NaN</td>\n",
       "      <td>40.839566</td>\n",
       "      <td>14.25085</td>\n",
       "      <td>3</td>\n",
       "    </tr>\n",
       "    <tr>\n",
       "      <th>443</th>\n",
       "      <td>2020-02-28 18:00:00</td>\n",
       "      <td>15</td>\n",
       "      <td>Campania</td>\n",
       "      <td>63</td>\n",
       "      <td>Napoli</td>\n",
       "      <td>NaN</td>\n",
       "      <td>40.839566</td>\n",
       "      <td>14.25085</td>\n",
       "      <td>4</td>\n",
       "    </tr>\n",
       "  </tbody>\n",
       "</table>\n",
       "</div>"
      ],
      "text/plain": [
       "                    Date  Region_Code Region_Name  Province_Code  \\\n",
       "15   2020-02-24 18:00:00           15    Campania             63   \n",
       "122  2020-02-25 18:00:00           15    Campania             63   \n",
       "229  2020-02-26 18:00:00           15    Campania             63   \n",
       "336  2020-02-27 18:00:00           15    Campania             63   \n",
       "443  2020-02-28 18:00:00           15    Campania             63   \n",
       "\n",
       "    Province_Name Province_GeoCode  Province_Latitude  Prov_Longitude  \\\n",
       "15         Napoli              NaN          40.839566        14.25085   \n",
       "122        Napoli              NaN          40.839566        14.25085   \n",
       "229        Napoli              NaN          40.839566        14.25085   \n",
       "336        Napoli              NaN          40.839566        14.25085   \n",
       "443        Napoli              NaN          40.839566        14.25085   \n",
       "\n",
       "     Total_Cases  \n",
       "15             0  \n",
       "122            0  \n",
       "229            0  \n",
       "336            3  \n",
       "443            4  "
      ]
     },
     "execution_count": 228,
     "metadata": {},
     "output_type": "execute_result"
    }
   ],
   "source": [
    "df_prov[df_prov.isnull().any(axis=1)].head()"
   ]
  },
  {
   "cell_type": "code",
   "execution_count": 229,
   "metadata": {},
   "outputs": [],
   "source": [
    "df_prov.loc[df_prov.Province_Name=='Napoli','Province_GeoCode']='NA'"
   ]
  },
  {
   "cell_type": "code",
   "execution_count": null,
   "metadata": {},
   "outputs": [],
   "source": []
  },
  {
   "cell_type": "code",
   "execution_count": 230,
   "metadata": {},
   "outputs": [],
   "source": [
    "df_prov['Date']=pd.to_datetime(df_prov['Date'])\n",
    "df_reg['Date']=pd.to_datetime(df_reg['Date'])"
   ]
  },
  {
   "cell_type": "code",
   "execution_count": 231,
   "metadata": {},
   "outputs": [
    {
     "data": {
      "text/plain": [
       "Date                            60\n",
       "Region_Code                     20\n",
       "Region_Name                     20\n",
       "Region_Latitude                 21\n",
       "Region_Longitude                21\n",
       "Hospitalized_with_Symptoms     642\n",
       "Intensive_Care                 329\n",
       "Total_Hospitalized             676\n",
       "Tot_Home_Isolation             814\n",
       "Total_Actually_Positive        886\n",
       "New_Actually_Positive          373\n",
       "Healed                         521\n",
       "Deceased                       468\n",
       "Total_Cases                    921\n",
       "Total_Medical_Swabs           1096\n",
       "dtype: int64"
      ]
     },
     "execution_count": 231,
     "metadata": {},
     "output_type": "execute_result"
    }
   ],
   "source": [
    "df_reg.nunique()"
   ]
  },
  {
   "cell_type": "markdown",
   "metadata": {},
   "source": [
    "handling duplicate region"
   ]
  },
  {
   "cell_type": "code",
   "execution_count": 232,
   "metadata": {},
   "outputs": [],
   "source": [
    "dftest = df_reg[['Region_Name']]+df_reg[['Region_Latitude']].astype('str')"
   ]
  },
  {
   "cell_type": "code",
   "execution_count": 233,
   "metadata": {},
   "outputs": [],
   "source": [
    "dftest=df_reg[['Region_Name']].copy()\n",
    "dftest['Region_Name']=dftest['Region_Name']+df_reg['Region_Latitude'].astype('str')"
   ]
  },
  {
   "cell_type": "code",
   "execution_count": 234,
   "metadata": {},
   "outputs": [
    {
     "data": {
      "text/plain": [
       "array(['Abruzzo42.35122196', 'Basilicata40.63947052',\n",
       "       'Trentino-Alto Adige46.49933453', 'Calabria38.90597598',\n",
       "       'Campania40.83956555', 'Emilia-Romagna44.49436681',\n",
       "       'Friuli-Venezia Giulia45.6494354', 'Lazio41.89277044',\n",
       "       'Liguria44.41149315', 'Lombardia45.46679409', 'Marche43.61675973',\n",
       "       'Molise41.55774754', 'Piemonte45.0732745', 'Puglia41.12559576',\n",
       "       'Sardegna39.21531192', 'Sicilia38.11569725', 'Toscana43.76923077',\n",
       "       'Trentino-Alto Adige46.06893511', 'Umbria43.10675841',\n",
       "       \"Valle d'Aosta45.73750286\", 'Veneto45.43490485'], dtype=object)"
      ]
     },
     "execution_count": 234,
     "metadata": {},
     "output_type": "execute_result"
    }
   ],
   "source": [
    "dftest['Region_Name'].unique()"
   ]
  },
  {
   "cell_type": "code",
   "execution_count": 235,
   "metadata": {},
   "outputs": [
    {
     "data": {
      "text/html": [
       "<div>\n",
       "<style scoped>\n",
       "    .dataframe tbody tr th:only-of-type {\n",
       "        vertical-align: middle;\n",
       "    }\n",
       "\n",
       "    .dataframe tbody tr th {\n",
       "        vertical-align: top;\n",
       "    }\n",
       "\n",
       "    .dataframe thead th {\n",
       "        text-align: right;\n",
       "    }\n",
       "</style>\n",
       "<table border=\"1\" class=\"dataframe\">\n",
       "  <thead>\n",
       "    <tr style=\"text-align: right;\">\n",
       "      <th></th>\n",
       "      <th>Date</th>\n",
       "      <th>Region_Code</th>\n",
       "      <th>Region_Name</th>\n",
       "      <th>Region_Longitude</th>\n",
       "      <th>Hospitalized_with_Symptoms</th>\n",
       "      <th>Intensive_Care</th>\n",
       "      <th>Total_Hospitalized</th>\n",
       "      <th>Tot_Home_Isolation</th>\n",
       "      <th>Total_Actually_Positive</th>\n",
       "      <th>New_Actually_Positive</th>\n",
       "      <th>Healed</th>\n",
       "      <th>Deceased</th>\n",
       "      <th>Total_Cases</th>\n",
       "      <th>Total_Medical_Swabs</th>\n",
       "    </tr>\n",
       "    <tr>\n",
       "      <th>Region_Latitude</th>\n",
       "      <th></th>\n",
       "      <th></th>\n",
       "      <th></th>\n",
       "      <th></th>\n",
       "      <th></th>\n",
       "      <th></th>\n",
       "      <th></th>\n",
       "      <th></th>\n",
       "      <th></th>\n",
       "      <th></th>\n",
       "      <th></th>\n",
       "      <th></th>\n",
       "      <th></th>\n",
       "      <th></th>\n",
       "    </tr>\n",
       "  </thead>\n",
       "  <tbody>\n",
       "    <tr>\n",
       "      <th>46.068935</th>\n",
       "      <td>60</td>\n",
       "      <td>60</td>\n",
       "      <td>60</td>\n",
       "      <td>60</td>\n",
       "      <td>60</td>\n",
       "      <td>60</td>\n",
       "      <td>60</td>\n",
       "      <td>60</td>\n",
       "      <td>60</td>\n",
       "      <td>60</td>\n",
       "      <td>60</td>\n",
       "      <td>60</td>\n",
       "      <td>60</td>\n",
       "      <td>60</td>\n",
       "    </tr>\n",
       "    <tr>\n",
       "      <th>46.499335</th>\n",
       "      <td>60</td>\n",
       "      <td>60</td>\n",
       "      <td>60</td>\n",
       "      <td>60</td>\n",
       "      <td>60</td>\n",
       "      <td>60</td>\n",
       "      <td>60</td>\n",
       "      <td>60</td>\n",
       "      <td>60</td>\n",
       "      <td>60</td>\n",
       "      <td>60</td>\n",
       "      <td>60</td>\n",
       "      <td>60</td>\n",
       "      <td>60</td>\n",
       "    </tr>\n",
       "  </tbody>\n",
       "</table>\n",
       "</div>"
      ],
      "text/plain": [
       "                 Date  Region_Code  Region_Name  Region_Longitude  \\\n",
       "Region_Latitude                                                     \n",
       "46.068935          60           60           60                60   \n",
       "46.499335          60           60           60                60   \n",
       "\n",
       "                 Hospitalized_with_Symptoms  Intensive_Care  \\\n",
       "Region_Latitude                                               \n",
       "46.068935                                60              60   \n",
       "46.499335                                60              60   \n",
       "\n",
       "                 Total_Hospitalized  Tot_Home_Isolation  \\\n",
       "Region_Latitude                                           \n",
       "46.068935                        60                  60   \n",
       "46.499335                        60                  60   \n",
       "\n",
       "                 Total_Actually_Positive  New_Actually_Positive  Healed  \\\n",
       "Region_Latitude                                                           \n",
       "46.068935                             60                     60      60   \n",
       "46.499335                             60                     60      60   \n",
       "\n",
       "                 Deceased  Total_Cases  Total_Medical_Swabs  \n",
       "Region_Latitude                                              \n",
       "46.068935              60           60                   60  \n",
       "46.499335              60           60                   60  "
      ]
     },
     "execution_count": 235,
     "metadata": {},
     "output_type": "execute_result"
    }
   ],
   "source": [
    "df_reg.loc[df_reg['Region_Name']=='Trentino-Alto Adige'].groupby(['Region_Latitude']).count()"
   ]
  },
  {
   "cell_type": "code",
   "execution_count": 236,
   "metadata": {},
   "outputs": [],
   "source": [
    "indeks=['Date','Hospitalized_with_Symptoms', 'Intensive_Care',\n",
    "       'Total_Hospitalized', 'Tot_Home_Isolation', 'Total_Actually_Positive',\n",
    "       'New_Actually_Positive', 'Healed', 'Deceased', 'Total_Cases',\n",
    "       'Total_Medical_Swabs']\n",
    "\n",
    "indeks2=['Hospitalized_with_Symptoms', 'Intensive_Care',\n",
    "       'Total_Hospitalized', 'Tot_Home_Isolation', 'Total_Actually_Positive',\n",
    "       'New_Actually_Positive', 'Healed', 'Deceased', 'Total_Cases',\n",
    "       'Total_Medical_Swabs']\n",
    "\n",
    "dftest=df_reg.loc[df_reg['Region_Name']=='Trentino-Alto Adige',indeks].groupby(['Date']).sum()\n",
    "dftest.set_index(df_reg.loc[(df_reg['Region_Latitude']<46.1)&(df_reg['Region_Name']=='Trentino-Alto Adige')].index, inplace=True)\n",
    "\n",
    "for i in indeks2:\n",
    "    df_reg.loc[(df_reg['Region_Latitude']<46.1)&(df_reg['Region_Name']=='Trentino-Alto Adige'),i]=dftest[i]\n"
   ]
  },
  {
   "cell_type": "code",
   "execution_count": 237,
   "metadata": {},
   "outputs": [],
   "source": [
    "df_reg.drop(df_reg.loc[(df_reg['Region_Latitude']>46.4)&(df_reg['Region_Name']=='Trentino-Alto Adige')].index,inplace=True)"
   ]
  },
  {
   "cell_type": "code",
   "execution_count": 238,
   "metadata": {},
   "outputs": [],
   "source": [
    "df_reg.loc[df_reg['Region_Name']=='Trentino-Alto Adige','Region_Latitude']=46.4337\n",
    "df_reg.loc[df_reg['Region_Name']=='Trentino-Alto Adige','Region_Longitude']=11.1693\n"
   ]
  },
  {
   "cell_type": "code",
   "execution_count": null,
   "metadata": {},
   "outputs": [],
   "source": []
  },
  {
   "cell_type": "code",
   "execution_count": null,
   "metadata": {},
   "outputs": [],
   "source": []
  },
  {
   "cell_type": "code",
   "execution_count": null,
   "metadata": {},
   "outputs": [],
   "source": []
  },
  {
   "cell_type": "code",
   "execution_count": null,
   "metadata": {},
   "outputs": [],
   "source": []
  },
  {
   "cell_type": "code",
   "execution_count": null,
   "metadata": {},
   "outputs": [],
   "source": []
  },
  {
   "cell_type": "markdown",
   "metadata": {},
   "source": [
    "Computer performance"
   ]
  },
  {
   "cell_type": "code",
   "execution_count": 239,
   "metadata": {},
   "outputs": [],
   "source": [
    "import cProfile"
   ]
  },
  {
   "cell_type": "code",
   "execution_count": 240,
   "metadata": {},
   "outputs": [],
   "source": [
    "def slow_function():\n",
    "    total = 0.0\n",
    "    \n",
    "    for i, _ in enumerate(range(10000)):\n",
    "        \n",
    "        for j, _ in enumerate(range(1, 10000)):\n",
    "            total += (i * j)\n",
    "\n",
    "    return total"
   ]
  },
  {
   "cell_type": "code",
   "execution_count": 241,
   "metadata": {},
   "outputs": [
    {
     "name": "stdout",
     "output_type": "stream",
     "text": [
      "         4 function calls in 9.009 seconds\n",
      "\n",
      "   Ordered by: internal time\n",
      "\n",
      "   ncalls  tottime  percall  cumtime  percall filename:lineno(function)\n",
      "        1    9.009    9.009    9.009    9.009 <ipython-input-240-0914bc0caa0e>:1(slow_function)\n",
      "        1    0.000    0.000    9.009    9.009 {built-in method builtins.exec}\n",
      "        1    0.000    0.000    9.009    9.009 <string>:1(<module>)\n",
      "        1    0.000    0.000    0.000    0.000 {method 'disable' of '_lsprof.Profiler' objects}\n",
      "\n",
      "\n"
     ]
    }
   ],
   "source": [
    "cProfile.run('slow_function()', sort='time')"
   ]
  },
  {
   "cell_type": "code",
   "execution_count": 242,
   "metadata": {},
   "outputs": [
    {
     "name": "stdout",
     "output_type": "stream",
     "text": [
      "9.03 s ± 6.52 ms per loop (mean ± std. dev. of 7 runs, 1 loop each)\n"
     ]
    }
   ],
   "source": [
    "%%timeit\n",
    "\n",
    "slow_function()"
   ]
  },
  {
   "cell_type": "code",
   "execution_count": 243,
   "metadata": {},
   "outputs": [],
   "source": [
    "import platform"
   ]
  },
  {
   "cell_type": "code",
   "execution_count": 244,
   "metadata": {},
   "outputs": [
    {
     "name": "stdout",
     "output_type": "stream",
     "text": [
      "x86_64\n",
      "#1 SMP Wed Apr 1 19:40:12 UTC 2020\n",
      "Linux-4.14.173-106.229.amzn1.x86_64-x86_64-with-glibc2.9\n",
      "uname_result(system='Linux', node='ip-172-16-37-126', release='4.14.173-106.229.amzn1.x86_64', version='#1 SMP Wed Apr 1 19:40:12 UTC 2020', machine='x86_64', processor='x86_64')\n",
      "Linux\n",
      "x86_64\n"
     ]
    }
   ],
   "source": [
    "print(platform.machine())\n",
    "print(platform.version())\n",
    "print(platform.platform())\n",
    "print(platform.uname())\n",
    "print(platform.system())\n",
    "print(platform.processor())"
   ]
  },
  {
   "cell_type": "code",
   "execution_count": 245,
   "metadata": {},
   "outputs": [
    {
     "name": "stdout",
     "output_type": "stream",
     "text": [
      "Requirement already satisfied: py-cpuinfo in /home/ec2-user/anaconda3/envs/python3/lib/python3.6/site-packages (5.0.0)\n",
      "\u001b[33mYou are using pip version 10.0.1, however version 20.1 is available.\n",
      "You should consider upgrading via the 'pip install --upgrade pip' command.\u001b[0m\n"
     ]
    }
   ],
   "source": [
    "!pip install py-cpuinfo"
   ]
  },
  {
   "cell_type": "code",
   "execution_count": 246,
   "metadata": {},
   "outputs": [
    {
     "name": "stdout",
     "output_type": "stream",
     "text": [
      "python_version: 3.6.5.final.0 (64 bit)\n",
      "cpuinfo_version: [5, 0, 0]\n",
      "arch: X86_64\n",
      "bits: 64\n",
      "count: 4\n",
      "raw_arch_string: x86_64\n",
      "vendor_id: GenuineIntel\n",
      "brand: Intel(R) Xeon(R) Platinum 8175M CPU @ 2.50GHz\n",
      "hz_advertised: 2.5000 GHz\n",
      "hz_actual: 3.1127 GHz\n",
      "hz_advertised_raw: [2500000000, 0]\n",
      "hz_actual_raw: [3112714000, 0]\n",
      "stepping: 4\n",
      "model: 85\n",
      "family: 6\n",
      "flags: ['3dnowprefetch', 'abm', 'adx', 'aes', 'aperfmperf', 'apic', 'arat', 'avx', 'avx2', 'avx512bw', 'avx512cd', 'avx512dq', 'avx512f', 'avx512vl', 'bmi1', 'bmi2', 'clflush', 'clflushopt', 'clwb', 'cmov', 'constant_tsc', 'cpuid', 'cx16', 'cx8', 'de', 'erms', 'f16c', 'fma', 'fpu', 'fsgsbase', 'fxsr', 'hle', 'ht', 'hypervisor', 'ida', 'invpcid', 'invpcid_single', 'lahf_lm', 'lm', 'mca', 'mce', 'mmx', 'movbe', 'mpx', 'msr', 'mtrr', 'nonstop_tsc', 'nopl', 'nx', 'ospke', 'pae', 'pat', 'pcid', 'pclmulqdq', 'pdpe1gb', 'pge', 'pku', 'pni', 'popcnt', 'pse', 'pse36', 'pti', 'rdrand', 'rdseed', 'rdtscp', 'rep_good', 'rtm', 'sep', 'smap', 'smep', 'ss', 'sse', 'sse2', 'sse4_1', 'sse4_2', 'ssse3', 'syscall', 'tsc', 'tsc_adjust', 'tsc_deadline_timer', 'tsc_known_freq', 'vme', 'x2apic', 'xgetbv1', 'xsave', 'xsavec', 'xsaveopt', 'xsaves', 'xtopology']\n",
      "l3_cache_size: 33792 KB\n",
      "l2_cache_size: 1024 KB\n",
      "l1_data_cache_size: 32 KB\n",
      "l1_instruction_cache_size: 32 KB\n"
     ]
    }
   ],
   "source": [
    "import cpuinfo\n",
    "\n",
    "from cpuinfo import get_cpu_info\n",
    "\n",
    "for key, value in get_cpu_info().items():\n",
    "    print(\"{0}: {1}\".format(key, value))"
   ]
  },
  {
   "cell_type": "code",
   "execution_count": null,
   "metadata": {},
   "outputs": [],
   "source": []
  }
 ],
 "metadata": {
  "kernelspec": {
   "display_name": "conda_python3",
   "language": "python",
   "name": "conda_python3"
  },
  "language_info": {
   "codemirror_mode": {
    "name": "ipython",
    "version": 3
   },
   "file_extension": ".py",
   "mimetype": "text/x-python",
   "name": "python",
   "nbconvert_exporter": "python",
   "pygments_lexer": "ipython3",
   "version": "3.6.5"
  }
 },
 "nbformat": 4,
 "nbformat_minor": 4
}
